{
  "nbformat": 4,
  "nbformat_minor": 0,
  "metadata": {
    "colab": {
      "provenance": []
    },
    "kernelspec": {
      "name": "python3",
      "display_name": "Python 3"
    },
    "language_info": {
      "name": "python"
    }
  },
  "cells": [
    {
      "cell_type": "code",
      "source": [
        "from sklearn.feature_extraction.text import TfidfVectorizer, CountVectorizer\n",
        "from sklearn.linear_model import LogisticRegression\n",
        "from sklearn.naive_bayes import MultinomialNB\n",
        "from sklearn.svm import SVC\n",
        "from sklearn.ensemble import RandomForestClassifier, GradientBoostingClassifier\n",
        "from sklearn.neighbors import KNeighborsClassifier\n",
        "from sklearn.metrics import accuracy_score, precision_recall_fscore_support, classification_report\n",
        "import pandas as pd\n",
        "import matplotlib.pyplot as plt\n",
        "import seaborn as sns\n",
        "import time\n",
        "from datasets import load_dataset"
      ],
      "metadata": {
        "id": "9FX1pVV5-BZl"
      },
      "execution_count": null,
      "outputs": []
    },
    {
      "cell_type": "code",
      "execution_count": null,
      "metadata": {
        "colab": {
          "base_uri": "https://localhost:8080/"
        },
        "id": "cthAm7Ok7Xl6",
        "outputId": "0a738762-5763-41a9-b8fd-3772f54865b5"
      },
      "outputs": [
        {
          "output_type": "stream",
          "name": "stdout",
          "text": [
            "Train: 16000 samples\n",
            "Val: 4000 samples\n",
            "Test: 1000 samples\n"
          ]
        }
      ],
      "source": [
        "dataset = load_dataset(\"ag_news\")\n",
        "\n",
        "SUBSET_SIZE = 20000\n",
        "tiny_subset = dataset['train'].shuffle(seed=42).select(range(SUBSET_SIZE))\n",
        "split = tiny_subset.train_test_split(test_size=0.2, seed=42)\n",
        "\n",
        "train_dataset = split['train']\n",
        "val_dataset = split['test']\n",
        "test_dataset = dataset['test'].select(range(1000))\n",
        "\n",
        "print(f\"Train: {len(train_dataset)} samples\")\n",
        "print(f\"Val: {len(val_dataset)} samples\")\n",
        "print(f\"Test: {len(test_dataset)} samples\")\n"
      ]
    },
    {
      "cell_type": "code",
      "source": [
        "def prepare_ml_data():\n",
        "\n",
        "    train_texts = [train_dataset[i]['text'] for i in range(len(train_dataset))]\n",
        "    train_labels = [train_dataset[i]['label'] for i in range(len(train_dataset))]\n",
        "\n",
        "    val_texts = [val_dataset[i]['text'] for i in range(len(val_dataset))]\n",
        "    val_labels = [val_dataset[i]['label'] for i in range(len(val_dataset))]\n",
        "\n",
        "    ml_train_texts = train_texts + val_texts\n",
        "    ml_train_labels = train_labels + val_labels\n",
        "\n",
        "    test_texts = [test_dataset[i]['text'] for i in range(len(test_dataset))]\n",
        "    test_labels = [test_dataset[i]['label'] for i in range(len(test_dataset))]\n",
        "\n",
        "    print(f\"ML Training samples: {len(ml_train_texts)}\")\n",
        "    print(f\"ML Test samples: {len(test_texts)}\")\n",
        "\n",
        "    return ml_train_texts, ml_train_labels, test_texts, test_labels\n",
        "\n",
        "train_texts, train_labels, test_texts, test_labels = prepare_ml_data()"
      ],
      "metadata": {
        "colab": {
          "base_uri": "https://localhost:8080/"
        },
        "id": "HI3xeLVU7b7n",
        "outputId": "0749aa0e-c8ea-4d02-ee55-6c681b11c681"
      },
      "execution_count": null,
      "outputs": [
        {
          "output_type": "stream",
          "name": "stdout",
          "text": [
            "ML Training samples: 20000\n",
            "ML Test samples: 1000\n"
          ]
        }
      ]
    },
    {
      "cell_type": "code",
      "source": [
        "tfidf = TfidfVectorizer(\n",
        "    max_features=15000,\n",
        "    stop_words='english',\n",
        "    ngram_range=(1, 2),\n",
        "    min_df=2,\n",
        "    max_df=0.8,\n",
        "    strip_accents='ascii',\n",
        "    lowercase=True\n",
        ")\n",
        "\n",
        "X_train = tfidf.fit_transform(train_texts)\n",
        "X_test = tfidf.transform(test_texts)\n",
        "\n",
        "print(f\" TF-IDF feature shape: {X_train.shape}\")\n",
        "print(f\"   Vocabulary size: {len(tfidf.vocabulary_)}\")\n",
        "\n"
      ],
      "metadata": {
        "colab": {
          "base_uri": "https://localhost:8080/"
        },
        "id": "6zYIzcYo-QdL",
        "outputId": "2906d20d-2284-4d29-d85f-1f29e42d4756"
      },
      "execution_count": null,
      "outputs": [
        {
          "output_type": "stream",
          "name": "stdout",
          "text": [
            " TF-IDF feature shape: (20000, 15000)\n",
            "   Vocabulary size: 15000\n"
          ]
        }
      ]
    },
    {
      "cell_type": "code",
      "source": [
        "models = {\n",
        "    \"Logistic Regression\": LogisticRegression(\n",
        "        random_state=42,\n",
        "        max_iter=1000,\n",
        "        C=1.0,\n",
        "        solver='liblinear'\n",
        "    ),\n",
        "\n",
        "    \"Multinomial Naive Bayes\": MultinomialNB(\n",
        "        alpha=0.1\n",
        "    ),\n",
        "\n",
        "    \"Support Vector Machine\": SVC(\n",
        "        random_state=42,\n",
        "        kernel='linear',\n",
        "        C=1.0,\n",
        "        probability=True\n",
        "    ),\n",
        "\n",
        "    \"Random Forest\": RandomForestClassifier(\n",
        "        n_estimators=200,\n",
        "        random_state=42,\n",
        "        max_depth=20,\n",
        "        min_samples_split=5,\n",
        "        n_jobs=-1\n",
        "    ),\n",
        "\n",
        "    \"Gradient Boosting\": GradientBoostingClassifier(\n",
        "        n_estimators=100,\n",
        "        random_state=42,\n",
        "        learning_rate=0.1,\n",
        "        max_depth=5\n",
        "    ),\n",
        "\n",
        "    \"K-Nearest Neighbors\": KNeighborsClassifier(\n",
        "        n_neighbors=7,\n",
        "        weights='distance',\n",
        "        n_jobs=-1\n",
        "    )\n",
        "}"
      ],
      "metadata": {
        "id": "8D9POz9G-v0Z"
      },
      "execution_count": null,
      "outputs": []
    },
    {
      "cell_type": "code",
      "source": [
        "results = {}\n",
        "training_times = {}\n",
        "prediction_times = {}\n",
        "trained_models = {}\n",
        "\n",
        "print(f\"\\n Training {len(models)} ML models...\\n\")\n",
        "\n",
        "for name, model in models.items():\n",
        "    print(f\" Training {name}...\")\n",
        "\n",
        "    start_time = time.time()\n",
        "    model.fit(X_train, train_labels)\n",
        "    train_time = time.time() - start_time\n",
        "\n",
        "    start_time = time.time()\n",
        "    y_pred = model.predict(X_test)\n",
        "    pred_time = time.time() - start_time\n",
        "\n",
        "    accuracy = accuracy_score(test_labels, y_pred)\n",
        "    precision, recall, f1, _ = precision_recall_fscore_support(\n",
        "        test_labels, y_pred, average='weighted'\n",
        "    )\n",
        "\n",
        "    results[name] = {\n",
        "        'accuracy': accuracy,\n",
        "        'precision': precision,\n",
        "        'recall': recall,\n",
        "        'f1': f1\n",
        "    }\n",
        "\n",
        "    trained_models[name] = model\n",
        "\n",
        "\n",
        "    training_times[name] = train_time\n",
        "    prediction_times[name] = pred_time\n",
        "\n",
        "    print(f\"     ✅ Accuracy: {accuracy:.4f}\")\n",
        "    print(f\"     📊 F1-Score: {f1:.4f}\")\n",
        "    print(f\"     ⏱️  Train Time: {train_time:.2f}s\")\n",
        "    print(f\"     🚀 Predict Time: {pred_time:.2f}s\")\n",
        "    print(\"-\" * 50)"
      ],
      "metadata": {
        "colab": {
          "base_uri": "https://localhost:8080/"
        },
        "id": "0iYyupGE_GeI",
        "outputId": "51e6b70f-b87d-4213-c797-342288f40f7d"
      },
      "execution_count": null,
      "outputs": [
        {
          "output_type": "stream",
          "name": "stdout",
          "text": [
            "\n",
            " Training 6 ML models...\n",
            "\n",
            " Training Logistic Regression...\n",
            "     ✅ Accuracy: 0.8870\n",
            "     📊 F1-Score: 0.8864\n",
            "     ⏱️  Train Time: 0.54s\n",
            "     🚀 Predict Time: 0.00s\n",
            "--------------------------------------------------\n",
            " Training Multinomial Naive Bayes...\n",
            "     ✅ Accuracy: 0.8910\n",
            "     📊 F1-Score: 0.8905\n",
            "     ⏱️  Train Time: 0.01s\n",
            "     🚀 Predict Time: 0.00s\n",
            "--------------------------------------------------\n",
            " Training Support Vector Machine...\n",
            "     ✅ Accuracy: 0.8930\n",
            "     📊 F1-Score: 0.8925\n",
            "     ⏱️  Train Time: 328.06s\n",
            "     🚀 Predict Time: 3.11s\n",
            "--------------------------------------------------\n",
            " Training Random Forest...\n",
            "     ✅ Accuracy: 0.7990\n",
            "     📊 F1-Score: 0.7953\n",
            "     ⏱️  Train Time: 4.14s\n",
            "     🚀 Predict Time: 0.07s\n",
            "--------------------------------------------------\n",
            " Training Gradient Boosting...\n",
            "     ✅ Accuracy: 0.8500\n",
            "     📊 F1-Score: 0.8494\n",
            "     ⏱️  Train Time: 199.47s\n",
            "     🚀 Predict Time: 0.01s\n",
            "--------------------------------------------------\n",
            " Training K-Nearest Neighbors...\n",
            "     ✅ Accuracy: 0.8580\n",
            "     📊 F1-Score: 0.8575\n",
            "     ⏱️  Train Time: 0.00s\n",
            "     🚀 Predict Time: 0.85s\n",
            "--------------------------------------------------\n"
          ]
        }
      ]
    },
    {
      "cell_type": "code",
      "source": [
        "import joblib\n",
        "import os\n",
        "\n",
        "os.makedirs('/content/drive/MyDrive/ml_models', exist_ok=True)\n",
        "\n",
        "for name, model in trained_models.items():\n",
        "    # Clean filename (remove spaces and special chars)\n",
        "    filename = name.lower().replace(' ', '_').replace('(', '').replace(')', '')\n",
        "    filepath = f'/content/drive/MyDrive/ml_models/{filename}.pkl'\n",
        "\n",
        "    # Save model\n",
        "    joblib.dump(model, filepath)\n",
        "    print(f\"     ✅ Saved: {name} → {filepath}\")\n",
        "\n",
        "# Save TF-IDF vectorizer (needed for predictions)\n",
        "joblib.dump(tfidf, '/content/drive/MyDrive/ml_models/tfidf_vectorizer.pkl')"
      ],
      "metadata": {
        "colab": {
          "base_uri": "https://localhost:8080/"
        },
        "id": "I_x7-3SKAH8x",
        "outputId": "0a832371-1fe6-42a2-e223-50f1f1edc458"
      },
      "execution_count": null,
      "outputs": [
        {
          "output_type": "stream",
          "name": "stdout",
          "text": [
            "     ✅ Saved: Logistic Regression → /content/drive/MyDrive/ml_models/logistic_regression.pkl\n",
            "     ✅ Saved: Multinomial Naive Bayes → /content/drive/MyDrive/ml_models/multinomial_naive_bayes.pkl\n",
            "     ✅ Saved: Support Vector Machine → /content/drive/MyDrive/ml_models/support_vector_machine.pkl\n",
            "     ✅ Saved: Random Forest → /content/drive/MyDrive/ml_models/random_forest.pkl\n",
            "     ✅ Saved: Gradient Boosting → /content/drive/MyDrive/ml_models/gradient_boosting.pkl\n",
            "     ✅ Saved: K-Nearest Neighbors → /content/drive/MyDrive/ml_models/k-nearest_neighbors.pkl\n"
          ]
        },
        {
          "output_type": "execute_result",
          "data": {
            "text/plain": [
              "['/content/drive/MyDrive/ml_models/tfidf_vectorizer.pkl']"
            ]
          },
          "metadata": {},
          "execution_count": 9
        }
      ]
    },
    {
      "cell_type": "code",
      "source": [],
      "metadata": {
        "id": "whnP_dUPDsVl"
      },
      "execution_count": null,
      "outputs": []
    }
  ]
}